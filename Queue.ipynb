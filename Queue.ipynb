{
 "cells": [
  {
   "cell_type": "code",
   "execution_count": 125,
   "id": "cb73d4d7",
   "metadata": {},
   "outputs": [],
   "source": [
    "#Queue a sequence container\n",
    "class Queue : \n",
    "    # Creates an empty Queue. \n",
    "    def __init__( self ):\n",
    "        self._theItems = list()\n",
    "    \n",
    "    # Returns True if the queue is empty or False otherwise.\n",
    "    def isEmpty( self ):\n",
    "        return len( self ) == 0 \n",
    "    \n",
    "    # Returns the number of items in the queue. \n",
    "    def __len__ ( self ):\n",
    "        return len( self._theItems )\n",
    "    \n",
    "    # Adds the given item to the queue\n",
    "    def enqueue( self, item ):\n",
    "        self._theItems.append( item )\n",
    "    \n",
    "    # Removes and returns the first item in the queue.\n",
    "    def dequeue( self ):\n",
    "        assert not self.isEmpty(), \"Cannot dequeue from an empty queue\"\n",
    "        return self._theItems.pop(0) "
   ]
  },
  {
   "cell_type": "code",
   "execution_count": 126,
   "id": "c84493e3",
   "metadata": {},
   "outputs": [
    {
     "name": "stdout",
     "output_type": "stream",
     "text": [
      "9\n",
      "19\n",
      "29\n"
     ]
    },
    {
     "data": {
      "text/plain": [
       "0"
      ]
     },
     "execution_count": 126,
     "metadata": {},
     "output_type": "execute_result"
    }
   ],
   "source": [
    "q= Queue()\n",
    "q.enqueue(9)\n",
    "q.enqueue(19)\n",
    "print(q.dequeue())\n",
    "\n",
    "q.enqueue(29)\n",
    "print(q.dequeue())\n",
    "print(q.dequeue())\n",
    "\n",
    "len(q)"
   ]
  },
  {
   "cell_type": "code",
   "execution_count": 127,
   "id": "0c1d1a03",
   "metadata": {},
   "outputs": [],
   "source": [
    "#Queue a circular array\n",
    "class CircularQueue():\n",
    "    #sebagai constructor\n",
    "    def __init__(self,capacity):\n",
    "        self._theItems = [None]*capacity\n",
    "        self.size = 0\n",
    "        self.head = -1\n",
    "        self.tail = -1\n",
    "        self._capacity = capacity\n",
    "    \n",
    "    #untuk mengecek apakah kosong atau tidak\n",
    "    def isEmpty(self):\n",
    "        return len(self) == 0\n",
    "    \n",
    "    #untuk mengecek apakah sudah penuh atau belum\n",
    "    def isFull(self):\n",
    "        return self._capacity == self.size\n",
    "    \n",
    "    #untuk mengecek panjang self\n",
    "    def __len__(self):\n",
    "        return self.size\n",
    "    \n",
    "    #Adds the given item to the queue\n",
    "    def enqueue(self,item):\n",
    "        assert not self.isFull(), \"Cannot enqueue when queue is full\"\n",
    "        self.tail = (self.tail +1) %self._capacity\n",
    "        if self.isEmpty():\n",
    "            self.head = (self.head+1) %self._capacity\n",
    "        self._theItems[self.tail] = item\n",
    "        self.size+=1\n",
    "    \n",
    "    # Removes and returns the first item in the queue.\n",
    "    def dequeue(self):\n",
    "        assert not self.isEmpty(), \"Cannot dequeue empty queue\"\n",
    "        tmp = self._theItems[self.head]\n",
    "        self.head = (self.head+1) %self._capacity\n",
    "        self.size-=1\n",
    "        return tmp"
   ]
  },
  {
   "cell_type": "code",
   "execution_count": 128,
   "id": "ac3a4443",
   "metadata": {},
   "outputs": [
    {
     "data": {
      "text/plain": [
       "[None, None, None, None, None, None]"
      ]
     },
     "execution_count": 128,
     "metadata": {},
     "output_type": "execute_result"
    }
   ],
   "source": [
    "[None] * 6"
   ]
  },
  {
   "cell_type": "code",
   "execution_count": 129,
   "id": "5bea1953",
   "metadata": {},
   "outputs": [
    {
     "name": "stdout",
     "output_type": "stream",
     "text": [
      "5\n",
      "10\n"
     ]
    },
    {
     "data": {
      "text/plain": [
       "6"
      ]
     },
     "execution_count": 129,
     "metadata": {},
     "output_type": "execute_result"
    }
   ],
   "source": [
    "cq= CircularQueue(6)\n",
    "cq.enqueue(5)\n",
    "cq.enqueue(10)\n",
    "cq.enqueue(15)\n",
    "cq.enqueue(20)\n",
    "cq.enqueue(25)\n",
    "cq.enqueue(30)\n",
    "\n",
    "print(cq.dequeue())\n",
    "print(cq.dequeue())\n",
    "\n",
    "cq.enqueue(35)\n",
    "cq.enqueue(40)\n",
    "len(cq)"
   ]
  },
  {
   "cell_type": "code",
   "execution_count": 130,
   "id": "352213f0",
   "metadata": {},
   "outputs": [
    {
     "data": {
      "text/plain": [
       "15"
      ]
     },
     "execution_count": 130,
     "metadata": {},
     "output_type": "execute_result"
    }
   ],
   "source": [
    "cq.dequeue()"
   ]
  }
 ],
 "metadata": {
  "kernelspec": {
   "display_name": "Python 3 (ipykernel)",
   "language": "python",
   "name": "python3"
  },
  "language_info": {
   "codemirror_mode": {
    "name": "ipython",
    "version": 3
   },
   "file_extension": ".py",
   "mimetype": "text/x-python",
   "name": "python",
   "nbconvert_exporter": "python",
   "pygments_lexer": "ipython3",
   "version": "3.11.5"
  }
 },
 "nbformat": 4,
 "nbformat_minor": 5
}
